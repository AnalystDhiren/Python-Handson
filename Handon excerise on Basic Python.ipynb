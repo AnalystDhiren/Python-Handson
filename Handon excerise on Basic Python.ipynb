{
 "cells": [
  {
   "cell_type": "code",
   "execution_count": 1,
   "id": "ebb7f343",
   "metadata": {},
   "outputs": [],
   "source": [
    "import pandas as pd"
   ]
  },
  {
   "cell_type": "code",
   "execution_count": 2,
   "id": "c153140f",
   "metadata": {},
   "outputs": [],
   "source": [
    "import numpy as np"
   ]
  },
  {
   "cell_type": "code",
   "execution_count": 3,
   "id": "68ba9b63",
   "metadata": {},
   "outputs": [
    {
     "ename": "ModuleNotFoundError",
     "evalue": "No module named 'imutils'",
     "output_type": "error",
     "traceback": [
      "\u001b[1;31m---------------------------------------------------------------------------\u001b[0m",
      "\u001b[1;31mModuleNotFoundError\u001b[0m                       Traceback (most recent call last)",
      "\u001b[1;32mC:\\Users\\DHIREN~1.P_E\\AppData\\Local\\Temp/ipykernel_18996/308558909.py\u001b[0m in \u001b[0;36m<module>\u001b[1;34m\u001b[0m\n\u001b[1;32m----> 1\u001b[1;33m \u001b[1;32mimport\u001b[0m \u001b[0mimutils\u001b[0m \u001b[1;32mas\u001b[0m \u001b[0mim\u001b[0m\u001b[1;33m\u001b[0m\u001b[1;33m\u001b[0m\u001b[0m\n\u001b[0m",
      "\u001b[1;31mModuleNotFoundError\u001b[0m: No module named 'imutils'"
     ]
    }
   ],
   "source": [
    "import imutils as im"
   ]
  },
  {
   "cell_type": "code",
   "execution_count": 4,
   "id": "263c6dad",
   "metadata": {},
   "outputs": [
    {
     "ename": "ModuleNotFoundError",
     "evalue": "No module named 'keras'",
     "output_type": "error",
     "traceback": [
      "\u001b[1;31m---------------------------------------------------------------------------\u001b[0m",
      "\u001b[1;31mModuleNotFoundError\u001b[0m                       Traceback (most recent call last)",
      "\u001b[1;32mC:\\Users\\DHIREN~1.P_E\\AppData\\Local\\Temp/ipykernel_18996/103639571.py\u001b[0m in \u001b[0;36m<module>\u001b[1;34m\u001b[0m\n\u001b[1;32m----> 1\u001b[1;33m \u001b[1;32mimport\u001b[0m \u001b[0mkeras\u001b[0m \u001b[1;32mas\u001b[0m \u001b[0mkr\u001b[0m\u001b[1;33m\u001b[0m\u001b[1;33m\u001b[0m\u001b[0m\n\u001b[0m",
      "\u001b[1;31mModuleNotFoundError\u001b[0m: No module named 'keras'"
     ]
    }
   ],
   "source": [
    "import keras as kr"
   ]
  },
  {
   "cell_type": "code",
   "execution_count": 7,
   "id": "9ade8192",
   "metadata": {},
   "outputs": [
    {
     "name": "stdout",
     "output_type": "stream",
     "text": [
      "1\n",
      "3\n",
      "5\n",
      "7\n",
      "9\n"
     ]
    }
   ],
   "source": [
    "for i in range (1,10,2):\n",
    "    print (i)"
   ]
  },
  {
   "cell_type": "code",
   "execution_count": 8,
   "id": "41b0fcff",
   "metadata": {},
   "outputs": [
    {
     "name": "stdout",
     "output_type": "stream",
     "text": [
      "10\n",
      "8\n",
      "6\n",
      "4\n",
      "2\n"
     ]
    }
   ],
   "source": [
    "for i in range (10,1,-2):\n",
    "    print (i)"
   ]
  },
  {
   "cell_type": "markdown",
   "id": "37bb17fa",
   "metadata": {},
   "source": [
    "# Functions"
   ]
  },
  {
   "cell_type": "code",
   "execution_count": 1,
   "id": "9c32a6d3",
   "metadata": {},
   "outputs": [],
   "source": [
    "def display():\n",
    "    print(\"Hello world\")\n",
    "    print(\"hello champ\")\n",
    "\n",
    "    #here if you give display fuction whatever written inside the df will be shown instald of giving pront function"
   ]
  },
  {
   "cell_type": "code",
   "execution_count": 2,
   "id": "f77a3d50",
   "metadata": {},
   "outputs": [
    {
     "name": "stdout",
     "output_type": "stream",
     "text": [
      "Hello world\n",
      "hello champ\n"
     ]
    }
   ],
   "source": [
    "display()    "
   ]
  },
  {
   "cell_type": "code",
   "execution_count": 5,
   "id": "f67cbd45",
   "metadata": {},
   "outputs": [
    {
     "name": "stdout",
     "output_type": "stream",
     "text": [
      "Enter First Number2\n",
      "Enter Second Number3\n",
      "ADD:5, SUB:-1, DIV:0.6666666666666666,MULTI:6\n"
     ]
    }
   ],
   "source": [
    "def arith(a,b):\n",
    "    sum = a+b\n",
    "    diff = a-b\n",
    "    div = a/b\n",
    "    multi = a*b\n",
    "    print(\"ADD:{0}, SUB:{1}, DIV:{2},MULTI:{3}\".format(sum,diff,div,multi))\n",
    "var1 = int(input(\"Enter First Number\"))\n",
    "var2 = int(input(\"Enter Second Number\"))\n",
    "arith(var1,var2)"
   ]
  },
  {
   "cell_type": "code",
   "execution_count": 11,
   "id": "81839459",
   "metadata": {},
   "outputs": [
    {
     "name": "stdout",
     "output_type": "stream",
     "text": [
      "Enter First Number: 5\n",
      "Enter Second Number: 6\n"
     ]
    }
   ],
   "source": [
    "def arith(a,b):\n",
    "    sum = a+b\n",
    "    diff= a-b\n",
    "    div = a/b\n",
    "    multi = a*b\n",
    "    return sum,diff,div,multi\n",
    "var1 = int(input(\"Enter First Number: \"))\n",
    "var2 = int(input(\"Enter Second Number: \"))\n",
    "result = arith(var1,var2)\n"
   ]
  },
  {
   "cell_type": "code",
   "execution_count": 13,
   "id": "b41aa213",
   "metadata": {},
   "outputs": [
    {
     "name": "stdout",
     "output_type": "stream",
     "text": [
      "(11, -1, 0.8333333333333334, 30)\n",
      "differences: 30\n"
     ]
    }
   ],
   "source": [
    "print(result)\n",
    "print(\"differences:\",result[3])"
   ]
  },
  {
   "cell_type": "raw",
   "id": "aa042123",
   "metadata": {},
   "source": [
    "Type 2"
   ]
  },
  {
   "cell_type": "code",
   "execution_count": 21,
   "id": "4fbb31b7",
   "metadata": {},
   "outputs": [
    {
     "name": "stdout",
     "output_type": "stream",
     "text": [
      "Total: 19.7\n"
     ]
    }
   ],
   "source": [
    "def arith(*data):  #here we assign the data instead of variable a.b.c\n",
    "    sum = 0\n",
    "    for i in range(len(data)):\n",
    "        sum = sum+data[i]\n",
    "    return sum\n",
    "\n",
    "a=5\n",
    "b=6.7\n",
    "c=8\n",
    "print(\"Total:\", arith(a,b,c))"
   ]
  },
  {
   "cell_type": "markdown",
   "id": "c166cc05",
   "metadata": {},
   "source": [
    "# Now we check of the variable are of data nd value"
   ]
  },
  {
   "cell_type": "code",
   "execution_count": 2,
   "id": "332c7aa6",
   "metadata": {},
   "outputs": [
    {
     "name": "stdout",
     "output_type": "stream",
     "text": [
      "Variable is: x\n",
      "Value is: Sanjay\n",
      "Variable is: b\n",
      "Value is: 24\n"
     ]
    }
   ],
   "source": [
    "def info(**data):\n",
    "    for i in data:\n",
    "        print(\"Variable is:\",i)\n",
    "        print(\"Value is:\",data[i])\n",
    "info(x=\"Sanjay\",b=24)"
   ]
  },
  {
   "cell_type": "code",
   "execution_count": 3,
   "id": "5b786f80",
   "metadata": {},
   "outputs": [
    {
     "data": {
      "text/plain": [
       "<function __main__.info(**data)>"
      ]
     },
     "execution_count": 3,
     "metadata": {},
     "output_type": "execute_result"
    }
   ],
   "source": [
    "info"
   ]
  },
  {
   "cell_type": "markdown",
   "id": "f0184033",
   "metadata": {},
   "source": [
    "# check if the data is string or number"
   ]
  },
  {
   "cell_type": "code",
   "execution_count": 20,
   "id": "98b75c2a",
   "metadata": {},
   "outputs": [
    {
     "name": "stdout",
     "output_type": "stream",
     "text": [
      "Data is string\n"
     ]
    }
   ],
   "source": [
    "def typeCheck(valuee):\n",
    "    if isinstance(valuee,str):\n",
    "        print(\"Data is string\")\n",
    "    else:\n",
    "        print(\"Data is Number\")\n",
    "var = \"dh\"\n",
    "typeCheck(var)"
   ]
  },
  {
   "cell_type": "markdown",
   "id": "4dc8c160",
   "metadata": {},
   "source": [
    "# STRINGS"
   ]
  },
  {
   "cell_type": "code",
   "execution_count": 1,
   "id": "ae5721aa",
   "metadata": {},
   "outputs": [],
   "source": [
    "data = \"Hello World\""
   ]
  },
  {
   "cell_type": "code",
   "execution_count": 2,
   "id": "34c6a0a0",
   "metadata": {},
   "outputs": [
    {
     "name": "stdout",
     "output_type": "stream",
     "text": [
      "11\n"
     ]
    }
   ],
   "source": [
    "print(len(data)) #length of data"
   ]
  },
  {
   "cell_type": "code",
   "execution_count": 3,
   "id": "afdc5c67",
   "metadata": {},
   "outputs": [
    {
     "name": "stdout",
     "output_type": "stream",
     "text": [
      "l\n"
     ]
    }
   ],
   "source": [
    "print(data[2])  #print letter by its index number"
   ]
  },
  {
   "cell_type": "code",
   "execution_count": 4,
   "id": "73e15c5c",
   "metadata": {},
   "outputs": [
    {
     "name": "stdout",
     "output_type": "stream",
     "text": [
      "Hello \n"
     ]
    }
   ],
   "source": [
    "print(data[:6]) #print data until index"
   ]
  },
  {
   "cell_type": "code",
   "execution_count": 5,
   "id": "b74394de",
   "metadata": {},
   "outputs": [
    {
     "name": "stdout",
     "output_type": "stream",
     "text": [
      "lo World\n"
     ]
    }
   ],
   "source": [
    "print(data[3:]) #print data from index"
   ]
  },
  {
   "cell_type": "code",
   "execution_count": 6,
   "id": "749c6d6a",
   "metadata": {},
   "outputs": [
    {
     "name": "stdout",
     "output_type": "stream",
     "text": [
      "lo W\n"
     ]
    }
   ],
   "source": [
    "print(data[3:7]) #print data from & to index"
   ]
  },
  {
   "cell_type": "code",
   "execution_count": 7,
   "id": "f1ce2f74",
   "metadata": {},
   "outputs": [
    {
     "name": "stdout",
     "output_type": "stream",
     "text": [
      "Hello Worl\n"
     ]
    }
   ],
   "source": [
    "print(data[:-1]) #print data -1 to last"
   ]
  },
  {
   "cell_type": "code",
   "execution_count": 31,
   "id": "a30b6a3f",
   "metadata": {},
   "outputs": [
    {
     "name": "stdout",
     "output_type": "stream",
     "text": [
      "dlroW olleH\n"
     ]
    }
   ],
   "source": [
    "print(data[::-1]) #print data reverse by index"
   ]
  },
  {
   "cell_type": "markdown",
   "id": "97332f86",
   "metadata": {},
   "source": [
    "# Further Data Processing "
   ]
  },
  {
   "cell_type": "code",
   "execution_count": 10,
   "id": "a4217b49",
   "metadata": {},
   "outputs": [],
   "source": [
    "data2 = \" Hello world \"\n"
   ]
  },
  {
   "cell_type": "code",
   "execution_count": 11,
   "id": "a5f39d58",
   "metadata": {},
   "outputs": [],
   "source": [
    "stripdata = data2.strip()"
   ]
  },
  {
   "cell_type": "code",
   "execution_count": 12,
   "id": "8038676b",
   "metadata": {},
   "outputs": [
    {
     "data": {
      "text/plain": [
       "' Hello world '"
      ]
     },
     "execution_count": 12,
     "metadata": {},
     "output_type": "execute_result"
    }
   ],
   "source": [
    "data2"
   ]
  },
  {
   "cell_type": "code",
   "execution_count": 13,
   "id": "5cd21033",
   "metadata": {},
   "outputs": [
    {
     "data": {
      "text/plain": [
       "'Hello world'"
      ]
     },
     "execution_count": 13,
     "metadata": {},
     "output_type": "execute_result"
    }
   ],
   "source": [
    "stripdata"
   ]
  },
  {
   "cell_type": "code",
   "execution_count": 18,
   "id": "bdff7cff",
   "metadata": {},
   "outputs": [],
   "source": [
    "data2 = \" Hello,world \""
   ]
  },
  {
   "cell_type": "code",
   "execution_count": 19,
   "id": "b19cfd72",
   "metadata": {},
   "outputs": [],
   "source": [
    "#seprate the data from comma"
   ]
  },
  {
   "cell_type": "code",
   "execution_count": 20,
   "id": "80888adb",
   "metadata": {},
   "outputs": [],
   "source": [
    "removesplit = data2.split(\",\")"
   ]
  },
  {
   "cell_type": "code",
   "execution_count": 34,
   "id": "6e95878d",
   "metadata": {},
   "outputs": [
    {
     "data": {
      "text/plain": [
       "[' Hello', 'world ']"
      ]
     },
     "execution_count": 34,
     "metadata": {},
     "output_type": "execute_result"
    }
   ],
   "source": [
    "removesplit"
   ]
  },
  {
   "cell_type": "markdown",
   "id": "7a44259b",
   "metadata": {},
   "source": [
    "# Changin the type of data\n"
   ]
  },
  {
   "cell_type": "code",
   "execution_count": 25,
   "id": "51a6b0f0",
   "metadata": {},
   "outputs": [
    {
     "name": "stdout",
     "output_type": "stream",
     "text": [
      " HELLO\n"
     ]
    }
   ],
   "source": [
    "print(removesplit[0].upper())"
   ]
  },
  {
   "cell_type": "code",
   "execution_count": 24,
   "id": "02307259",
   "metadata": {},
   "outputs": [
    {
     "name": "stdout",
     "output_type": "stream",
     "text": [
      "world \n"
     ]
    }
   ],
   "source": [
    "print(removesplit[1].lower())"
   ]
  },
  {
   "cell_type": "code",
   "execution_count": 27,
   "id": "3771cd96",
   "metadata": {},
   "outputs": [
    {
     "name": "stdout",
     "output_type": "stream",
     "text": [
      "World \n"
     ]
    }
   ],
   "source": [
    "print(removesplit[1].capitalize())"
   ]
  },
  {
   "cell_type": "code",
   "execution_count": 35,
   "id": "893ea8f8",
   "metadata": {},
   "outputs": [
    {
     "ename": "AttributeError",
     "evalue": "'list' object has no attribute 'replace'",
     "output_type": "error",
     "traceback": [
      "\u001b[1;31m---------------------------------------------------------------------------\u001b[0m",
      "\u001b[1;31mAttributeError\u001b[0m                            Traceback (most recent call last)",
      "\u001b[1;32mC:\\Users\\DHIREN~1.P_E\\AppData\\Local\\Temp/ipykernel_15424/3906830185.py\u001b[0m in \u001b[0;36m<module>\u001b[1;34m\u001b[0m\n\u001b[1;32m----> 1\u001b[1;33m \u001b[0mprint\u001b[0m\u001b[1;33m(\u001b[0m\u001b[0mremovesplit\u001b[0m\u001b[1;33m.\u001b[0m\u001b[0mreplace\u001b[0m \u001b[1;33m(\u001b[0m\u001b[1;34m\",\"\u001b[0m\u001b[1;33m,\u001b[0m\u001b[1;34m\"*******\"\u001b[0m\u001b[1;33m)\u001b[0m\u001b[1;33m)\u001b[0m\u001b[1;33m\u001b[0m\u001b[1;33m\u001b[0m\u001b[0m\n\u001b[0m",
      "\u001b[1;31mAttributeError\u001b[0m: 'list' object has no attribute 'replace'"
     ]
    }
   ],
   "source": [
    "print(removesplit.replace (\",\",\"*******\"))"
   ]
  },
  {
   "cell_type": "code",
   "execution_count": null,
   "id": "d4481c61",
   "metadata": {},
   "outputs": [],
   "source": []
  }
 ],
 "metadata": {
  "kernelspec": {
   "display_name": "Python 3 (ipykernel)",
   "language": "python",
   "name": "python3"
  },
  "language_info": {
   "codemirror_mode": {
    "name": "ipython",
    "version": 3
   },
   "file_extension": ".py",
   "mimetype": "text/x-python",
   "name": "python",
   "nbconvert_exporter": "python",
   "pygments_lexer": "ipython3",
   "version": "3.9.7"
  }
 },
 "nbformat": 4,
 "nbformat_minor": 5
}
